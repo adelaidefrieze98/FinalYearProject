{
 "cells": [
  {
   "cell_type": "code",
   "execution_count": 4,
   "id": "1f335b5f",
   "metadata": {},
   "outputs": [],
   "source": [
    "# import dependencies \n",
    "import tensorflow as tf\n",
    "import numpy as np \n",
    "import pandas as pd \n",
    "from datetime import datetime, date, time\n",
    "import os \n",
    "import glob\n",
    "import csv\n",
    "import shutil\n",
    "\n",
    "## data from .txt files to .csv files\n",
    "\n",
    "txt_directory = r\"C:\\Users\\adela\\OneDrive - University of Bristol\\Documents\\Third Year Project\\Data\\plots_dataset_release\"\n",
    "csv_directory = r\"C:\\Users\\adela\\OneDrive - University of Bristol\\Documents\\Third Year Project\\Data\\allCSV2\" \n",
    "        \n",
    "for filename in os.listdir(txt_directory):\n",
    "       if filename.endswith(\".txt\"):\n",
    "            txt_filepath = os.path.join(txt_directory, filename)\n",
    "            data = pd.read_csv(txt_filepath)\n",
    "            csv_filepath = os.path.join(csv_directory, filename)\n",
    "            csv_filepath = os.path.splitext(csv_filepath)[0]+\".csv\"\n",
    "            data.to_csv(csv_filepath, index=False)\n"
   ]
  },
  {
   "cell_type": "code",
   "execution_count": null,
   "id": "581045d3",
   "metadata": {},
   "outputs": [],
   "source": [
    "txt_directory = r\"C:\\Users\\adela\\OneDrive - University of Bristol\\Documents\\Third Year Project\\Data\\plots_dataset_release\"\n",
    "grouped_text_directory = r\"C:\\Users\\adela\\OneDrive - University of Bristol\\Documents\\Third Year Project\\Data\\groupedCSV\\group2\""
   ]
  },
  {
   "cell_type": "code",
   "execution_count": 30,
   "id": "ea59759f",
   "metadata": {},
   "outputs": [
    {
     "name": "stdout",
     "output_type": "stream",
     "text": [
      "File count: 3949\n"
     ]
    }
   ],
   "source": [
    "count = 0\n",
    "for path in os.listdir(txt_directory):\n",
    "    if os.path.isfile(os.path.join(txt_directory, path)):\n",
    "        count+=1\n",
    "print('File count:', count)"
   ]
  },
  {
   "cell_type": "code",
   "execution_count": 31,
   "id": "98c9fa78",
   "metadata": {},
   "outputs": [],
   "source": [
    "i=0\n",
    "for filename in sorted(os.listdir(txt_directory)):\n",
    "    shutil.move(txt_directory + '/'+filename, grouped_text_directory)\n",
    "    i=i+1\n",
    "    if i>50:\n",
    "        break"
   ]
  },
  {
   "cell_type": "code",
   "execution_count": 32,
   "id": "75e75485",
   "metadata": {},
   "outputs": [
    {
     "name": "stdout",
     "output_type": "stream",
     "text": [
      "File count: 102\n"
     ]
    }
   ],
   "source": [
    "count = 0\n",
    "for path in os.listdir(grouped_text_directory):\n",
    "    if os.path.isfile(os.path.join(grouped_text_directory, path)):\n",
    "        count+=1\n",
    "print('File count:', count)"
   ]
  },
  {
   "cell_type": "code",
   "execution_count": 2,
   "id": "10043dc6",
   "metadata": {},
   "outputs": [],
   "source": [
    "#DATA FROM TXT FILES INTO ONE BIG CSV\n",
    "csv_directory=r\"C:\\Users\\adela\\OneDrive - University of Bristol\\Documents\\Third Year Project\\Data\"\n",
    "txt_directory = r\"C:\\Users\\adela\\OneDrive - University of Bristol\\Documents\\Third Year Project\\Data\\plots_dataset_release\"\n",
    "csv_path = os.path.join(csv_directory, 'allData.csv')\n",
    "with open(csv_path, 'w') as csv_file:\n",
    "    for path in glob.glob(txt_directory + '/*.txt'):\n",
    "        with open(path) as txt_file:\n",
    "            txt = txt_file.read() + '\\n'\n",
    "            txt = txt.replace('\\t', ',')\n",
    "            csv_file.write(txt)\n",
    "            \n"
   ]
  },
  {
   "cell_type": "code",
   "execution_count": 3,
   "id": "d28fd52f",
   "metadata": {},
   "outputs": [
    {
     "name": "stderr",
     "output_type": "stream",
     "text": [
      "C:\\Users\\adela\\AppData\\Local\\Temp\\ipykernel_12660\\278587589.py:1: DtypeWarning: Columns (4) have mixed types. Specify dtype option on import or set low_memory=False.\n",
      "  data = pd.read_csv(csv_directory+'/'+'allData.csv',index_col=None)\n"
     ]
    },
    {
     "name": "stdout",
     "output_type": "stream",
     "text": [
      "<class 'pandas.core.frame.DataFrame'>\n",
      "RangeIndex: 127964736 entries, 0 to 127964735\n",
      "Data columns (total 5 columns):\n",
      " #   Column               Dtype  \n",
      "---  ------               -----  \n",
      " 0   2015.02.02.00.00.00  object \n",
      " 1   12.51                float64\n",
      " 2   -9.97                float64\n",
      " 3   -725.60              float64\n",
      " 4   11.01                object \n",
      "dtypes: float64(3), object(2)\n",
      "memory usage: 4.8+ GB\n"
     ]
    }
   ],
   "source": [
    "data = pd.read_csv(csv_directory+'/'+'allData.csv',index_col=None)\n",
    "data.info()"
   ]
  },
  {
   "cell_type": "code",
   "execution_count": null,
   "id": "d4cb7582",
   "metadata": {},
   "outputs": [],
   "source": []
  }
 ],
 "metadata": {
  "kernelspec": {
   "display_name": "tf",
   "language": "python",
   "name": "tf"
  },
  "language_info": {
   "codemirror_mode": {
    "name": "ipython",
    "version": 3
   },
   "file_extension": ".py",
   "mimetype": "text/x-python",
   "name": "python",
   "nbconvert_exporter": "python",
   "pygments_lexer": "ipython3",
   "version": "3.10.0"
  }
 },
 "nbformat": 4,
 "nbformat_minor": 5
}
