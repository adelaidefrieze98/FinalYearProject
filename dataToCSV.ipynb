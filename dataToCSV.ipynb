{
 "cells": [
  {
   "cell_type": "code",
   "execution_count": null,
   "id": "1f335b5f",
   "metadata": {},
   "outputs": [],
   "source": [
    "# import dependencies \n",
    "import tensorflow as tf\n",
    "import numpy as np \n",
    "import pandas as pd \n",
    "from datetime import datetime, date, time\n",
    "import os \n",
    "import glob\n",
    "import csv\n",
    "\n",
    "## data from .txt files to .csv files\n",
    "\n",
    "txt_directory = r\"C:\\Users\\adela\\OneDrive - University of Bristol\\Documents\\Third Year Project\\Data\\plots_dataset_release\"\n",
    "csv_directory = r\"C:\\Users\\adela\\OneDrive - University of Bristol\\Documents\\Third Year Project\\Program\"\n",
    "\n",
    "#for filename in os.listdir(txt_directory):\n",
    "    #if filename.endswith(\".txt\"):\n",
    "        #txt_filepath = os.path.join(txt_directory, filename)\n",
    "        #data = pd.read_csv(txt_filepath)\n",
    "        #csv_filepath = os.path.join(csv_directory, filename)\n",
    "        #csv_filepath = os.path.splitext(csv_filepath)[0]+\".csv\"\n",
    "        #data.to_csv(csv_filepath, index=False)  \n",
    "        \n",
    "#data = pd.DataFrame()\n",
    "\n",
    "#directory = r\"C:\\Users\\adela\\OneDrive - University of Bristol\\Documents\\Third Year Project\\Data\\plots_dataset_release\"\n",
    "#csv_path = os.path.join(csv_directory, 'allData.csv')\n",
    "#with open(csv_path, 'w') as csv_file:\n",
    "    #for path in glob.glob(directory + '/*.txt'):\n",
    "        #with open(path) as txt_file:\n",
    "            #txt = txt_file.read() + '\\n'\n",
    "            #txt = txt.replace('\\t', ',')\n",
    "            #txt = txt.replace9\n",
    "            #csv_file.write(txt)"
   ]
  }
 ],
 "metadata": {
  "kernelspec": {
   "display_name": "tf",
   "language": "python",
   "name": "tf"
  },
  "language_info": {
   "codemirror_mode": {
    "name": "ipython",
    "version": 3
   },
   "file_extension": ".py",
   "mimetype": "text/x-python",
   "name": "python",
   "nbconvert_exporter": "python",
   "pygments_lexer": "ipython3",
   "version": "3.10.0"
  }
 },
 "nbformat": 4,
 "nbformat_minor": 5
}
